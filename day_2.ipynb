{
 "cells": [
  {
   "cell_type": "code",
   "execution_count": 1,
   "metadata": {
    "collapsed": false
   },
   "outputs": [],
   "source": [
    "from __future__ import division, print_function\n",
    "import numpy as np\n",
    "import codecs\n",
    "import re\n",
    "import json\n",
    "import random\n",
    "from collections import defaultdict, Counter\n",
    "import os\n",
    "\n",
    "%load_ext autoreload\n",
    "%autoreload 2\n",
    "%matplotlib inline"
   ]
  },
  {
   "cell_type": "code",
   "execution_count": 2,
   "metadata": {
    "collapsed": false
   },
   "outputs": [],
   "source": [
    "import numpy as np\n",
    "import matplotlib.pyplot as plt"
   ]
  },
  {
   "cell_type": "code",
   "execution_count": 3,
   "metadata": {
    "collapsed": false
   },
   "outputs": [
    {
     "name": "stdout",
     "output_type": "stream",
     "text": [
      "[walk/rainy walk/sunny shop/sunny clean/sunny , walk/rainy walk/rainy shop/rainy clean/sunny , walk/sunny shop/sunny shop/sunny clean/sunny ]\n",
      "[walk/rainy walk/sunny shop/sunny clean/sunny , clean/sunny walk/sunny tennis/sunny walk/sunny ]\n"
     ]
    }
   ],
   "source": [
    "import lxmls.readers.simple_sequence as ssr\n",
    "simple = ssr.SimpleSequence()\n",
    "print(simple.train)\n",
    "# [walk/rainy walk/sunny shop/sunny clean/sunny , walk/rainy walk/rainy shop/rainy clean/\n",
    "# sunny , walk/sunny shop/sunny shop/sunny clean/sunny ]\n",
    "print(simple.test)\n"
   ]
  },
  {
   "cell_type": "code",
   "execution_count": 4,
   "metadata": {
    "collapsed": false
   },
   "outputs": [
    {
     "name": "stdout",
     "output_type": "stream",
     "text": [
      "walk/rainy walk/sunny shop/sunny clean/sunny \n",
      "walk/rainy walk/rainy shop/rainy clean/sunny \n",
      "walk/sunny shop/sunny shop/sunny clean/sunny \n",
      "[0, 0, 1, 2]\n",
      "[0, 0, 1, 2]\n",
      "[0, 1, 1, 2]\n",
      "[0, 1, 1, 1]\n",
      "[0, 0, 0, 1]\n",
      "[1, 1, 1, 1]\n"
     ]
    }
   ],
   "source": [
    "for sequence in simple.train.seq_list:\n",
    "    print(sequence)\n",
    "\n",
    "for sequence in simple.train.seq_list:\n",
    "    print(sequence.x)\n",
    "\n",
    "for sequence in simple.train.seq_list:\n",
    "    print(sequence.y)"
   ]
  },
  {
   "cell_type": "code",
   "execution_count": 5,
   "metadata": {
    "collapsed": false
   },
   "outputs": [
    {
     "name": "stdout",
     "output_type": "stream",
     "text": [
      "Initial Probabilities: [ 0.66666667  0.33333333]\n",
      "Transition Probabilities: [[ 0.5    0.   ]\n",
      " [ 0.5    0.625]]\n",
      "Final Probabilities: [ 0.     0.375]\n",
      "Emission Probabilities [[ 0.75   0.25 ]\n",
      " [ 0.25   0.375]\n",
      " [ 0.     0.375]\n",
      " [ 0.     0.   ]]\n"
     ]
    }
   ],
   "source": [
    "# i only clean when it's sunny\n",
    "# i never play tennis\n",
    "\n",
    "import lxmls.sequences.hmm as hmmc\n",
    "hmm = hmmc.HMM(simple.x_dict, simple.y_dict)\n",
    "hmm.train_supervised(simple.train)\n",
    "print(\"Initial Probabilities:\", hmm.initial_probs)\n",
    "print(\"Transition Probabilities:\", hmm.transition_probs)\n",
    "print(\"Final Probabilities:\", hmm.final_probs)\n",
    "print(\"Emission Probabilities\", hmm.emission_probs)\n"
   ]
  },
  {
   "cell_type": "code",
   "execution_count": 6,
   "metadata": {
    "collapsed": false
   },
   "outputs": [
    {
     "name": "stdout",
     "output_type": "stream",
     "text": [
      "[-0.40546511 -1.09861229]\n",
      "[[[-0.69314718        -inf]\n",
      "  [-0.69314718 -0.47000363]]\n",
      "\n",
      " [[-0.69314718        -inf]\n",
      "  [-0.69314718 -0.47000363]]\n",
      "\n",
      " [[-0.69314718        -inf]\n",
      "  [-0.69314718 -0.47000363]]]\n",
      "[       -inf -0.98082925]\n",
      "[[-0.28768207 -1.38629436]\n",
      " [-0.28768207 -1.38629436]\n",
      " [-1.38629436 -0.98082925]\n",
      " [       -inf -0.98082925]]\n"
     ]
    },
    {
     "name": "stderr",
     "output_type": "stream",
     "text": [
      "/home/chris/projects/lxmls_2015/lxmls-toolkit/lxmls/sequences/hmm.py:193: RuntimeWarning: divide by zero encountered in log\n",
      "  transition_scores[pos-1,:,:] = np.log(self.transition_probs)\n",
      "/home/chris/projects/lxmls_2015/lxmls-toolkit/lxmls/sequences/hmm.py:191: RuntimeWarning: divide by zero encountered in log\n",
      "  emission_scores[pos,:] = np.log(self.emission_probs[sequence.x[pos], :])\n",
      "/home/chris/projects/lxmls_2015/lxmls-toolkit/lxmls/sequences/hmm.py:196: RuntimeWarning: divide by zero encountered in log\n",
      "  final_scores = np.log(self.final_probs)\n"
     ]
    }
   ],
   "source": [
    "initial_scores, transition_scores, final_scores, emission_scores = hmm.compute_scores(\n",
    "simple.train.seq_list[0])\n",
    "print(initial_scores)\n",
    "\n",
    "print(transition_scores)\n",
    "print(final_scores)\n",
    "print(emission_scores)\n"
   ]
  },
  {
   "cell_type": "markdown",
   "metadata": {},
   "source": [
    "Sometimes, we need to add probabilities. In the log domain, this requires us to compute    \n",
    "$log(exp( a) + exp(b)) = a + log(1 + exp(b − a))$    \n",
    "\n",
    "where we assume that a is smaller than b.\n"
   ]
  },
  {
   "cell_type": "code",
   "execution_count": 11,
   "metadata": {
    "collapsed": false
   },
   "outputs": [
    {
     "name": "stdout",
     "output_type": "stream",
     "text": [
      "Log-Likelihood = -5.06823232601\n",
      "Log-Likelihood = -5.06823232601\n"
     ]
    }
   ],
   "source": [
    "log_likelihood, forward = hmm.decoder.run_forward(initial_scores, transition_scores,\n",
    "final_scores, emission_scores)\n",
    "print('Log-Likelihood =', log_likelihood)\n",
    "# Log-Likelihood = -5.06823232601\n",
    "log_likelihood, backward = hmm.decoder.run_backward(initial_scores, transition_scores, final_scores, emission_scores)\n",
    "print('Log-Likelihood =', log_likelihood)\n"
   ]
  },
  {
   "cell_type": "code",
   "execution_count": 12,
   "metadata": {
    "collapsed": false
   },
   "outputs": [
    {
     "name": "stdout",
     "output_type": "stream",
     "text": [
      "[[ 0.95738152  0.04261848]\n",
      " [ 0.75281282  0.24718718]\n",
      " [ 0.26184794  0.73815206]\n",
      " [ 0.          1.        ]]\n",
      "[0 0 1 1]\n",
      "walk/rainy walk/sunny shop/sunny clean/sunny \n"
     ]
    }
   ],
   "source": [
    "initial_scores, transition_scores, final_scores, emission_scores = hmm.compute_scores(simple.train.seq_list[0])\n",
    "state_posteriors, _, _ = hmm.compute_posteriors(initial_scores,transition_scores,final_scores,emission_scores)\n",
    "print(state_posteriors)\n",
    "\n",
    "\n",
    "print(np.argmax(state_posteriors, axis=1))\n",
    "print(simple.train[0])"
   ]
  },
  {
   "cell_type": "code",
   "execution_count": 13,
   "metadata": {
    "collapsed": false
   },
   "outputs": [
    {
     "name": "stdout",
     "output_type": "stream",
     "text": [
      "Prediction test 0: walk/rainy walk/rainy shop/sunny clean/sunny \n",
      "Truth test 0: walk/rainy walk/sunny shop/sunny clean/sunny \n"
     ]
    }
   ],
   "source": [
    "y_pred = hmm.posterior_decode(simple.test.seq_list[0])\n",
    "print(\"Prediction test 0:\", y_pred)\n",
    "# walk/rainy walk/rainy shop/sunny clean/sunny\n",
    "print(\"Truth test 0:\", simple.test.seq_list[0])\n",
    "# walk/rainy walk/sunny shop/sunny clean/sunny\n"
   ]
  },
  {
   "cell_type": "code",
   "execution_count": 14,
   "metadata": {
    "collapsed": false
   },
   "outputs": [
    {
     "name": "stdout",
     "output_type": "stream",
     "text": [
      "Prediction test 1: clean/rainy walk/rainy tennis/rainy walk/rainy \n",
      "Truth test 1: clean/sunny walk/sunny tennis/sunny walk/sunny \n"
     ]
    }
   ],
   "source": [
    "# we never observed tennis!\n",
    "\n",
    "y_pred = hmm.posterior_decode(simple.test.seq_list[1])\n",
    "print(\"Prediction test 1:\", y_pred)\n",
    "print(\"Truth test 1:\", simple.test.seq_list[1])"
   ]
  },
  {
   "cell_type": "markdown",
   "metadata": {},
   "source": [
    "What is wrong? Note the observations for the second test sequence: the observation tennis was never seen at\n",
    "training time, so the probability for it will be zero (no matter what state). This will make all possible state sequences have\n",
    "zero probability. As seen in the previous lecture, this is a problem with generative models, which can be corrected using\n",
    "smoothing (among other options).\n",
    "Change the train supervised method to add smoothing:\n",
    "```\n",
    "def train_supervised(self,sequence_list, smoothing):\n",
    "```\n"
   ]
  },
  {
   "cell_type": "code",
   "execution_count": 15,
   "metadata": {
    "collapsed": false
   },
   "outputs": [
    {
     "name": "stdout",
     "output_type": "stream",
     "text": [
      "Viterbi decoding Prediction test 0 with smoothing: walk/rainy walk/rainy shop/sunny clean/sunny  -6.02050124698\n",
      "Truth test 0: walk/rainy walk/sunny shop/sunny clean/sunny \n",
      "Viterbi decoding Prediction test 1 with smoothing: clean/sunny walk/sunny tennis/sunny walk/sunny  -11.713974074\n",
      "Truth test 1: clean/sunny walk/sunny tennis/sunny walk/sunny \n"
     ]
    }
   ],
   "source": [
    "hmm.train_supervised(simple.train, smoothing=0.1)\n",
    "y_pred, score = hmm.viterbi_decode(simple.test.seq_list[0])\n",
    "print(\"Viterbi decoding Prediction test 0 with smoothing:\", y_pred, score)\n",
    "# walk/rainy walk/rainy shop/sunny clean/sunny\n",
    "# -6.02050124698\n",
    "print(\"Truth test 0:\", simple.test.seq_list[0])\n",
    "# walk/rainy walk/sunny shop/sunny clean/sunny\n",
    "y_pred, score = hmm.viterbi_decode(simple.test.seq_list[1])\n",
    "print(\"Viterbi decoding Prediction test 1 with smoothing:\", y_pred, score)\n",
    "# clean/sunny walk/sunny tennis/sunny walk/sunny\n",
    "# -11.713974074\n",
    "print(\"Truth test 1:\", simple.test.seq_list[1])\n",
    "# clean/sunny walk/sunny tennis/sunny walk/sunny\n"
   ]
  },
  {
   "cell_type": "code",
   "execution_count": 16,
   "metadata": {
    "collapsed": false
   },
   "outputs": [
    {
     "data": {
      "image/png": "[encoded data removed]",
      "text/plain": [
       "<matplotlib.figure.Figure at 0x7f9271d70890>"
      ]
     },
     "metadata": {},
     "output_type": "display_data"
    }
   ],
   "source": [
    "import lxmls.readers.pos_corpus as pcc\n",
    "BASEPATH='/home/chris/projects/lxmls_2015/lxmls-toolkit/'\n",
    "corpus = pcc.PostagCorpus()\n",
    "train_seq = corpus.read_sequence_list_conll(os.path.join(BASEPATH, \"data/train-02-21.conll\"),max_sent_len=15, max_nr_sent=1000)\n",
    "test_seq = corpus.read_sequence_list_conll(os.path.join(BASEPATH, \"data/test-23.conll\"),max_sent_len=15,max_nr_sent=1000)\n",
    "dev_seq = corpus.read_sequence_list_conll(os.path.join(BASEPATH, \"data/dev-22.conll\"),max_sent_len=15,max_nr_sent=1000)\n",
    "hmm = hmmc.HMM(corpus.word_dict, corpus.tag_dict)\n",
    "hmm.train_supervised(train_seq)\n",
    "hmm.print_transition_matrix()\n"
   ]
  },
  {
   "cell_type": "code",
   "execution_count": 17,
   "metadata": {
    "collapsed": false
   },
   "outputs": [
    {
     "name": "stdout",
     "output_type": "stream",
     "text": [
      "Train Set Accuracy: Posterior Decode 0.985, Viterbi Decode: 0.985\n",
      "Test Set Accuracy: Posterior Decode 0.350, Viterbi Decode: 0.509\n"
     ]
    }
   ],
   "source": [
    "viterbi_pred_train = hmm.viterbi_decode_corpus(train_seq)\n",
    "posterior_pred_train = hmm.posterior_decode_corpus(train_seq)\n",
    "eval_viterbi_train = hmm.evaluate_corpus(train_seq, viterbi_pred_train)\n",
    "eval_posterior_train = hmm.evaluate_corpus(train_seq, posterior_pred_train)\n",
    "print(\"Train Set Accuracy: Posterior Decode %.3f, Viterbi Decode: %.3f\"%(eval_posterior_train,eval_viterbi_train))\n",
    "# Train Set Accuracy: Posterior Decode 0.985, Viterbi Decode: 0.985\n",
    "viterbi_pred_test = hmm.viterbi_decode_corpus(test_seq)\n",
    "posterior_pred_test = hmm.posterior_decode_corpus(test_seq)\n",
    "eval_viterbi_test = hmm.evaluate_corpus(test_seq,viterbi_pred_test)\n",
    "eval_posterior_test = hmm.evaluate_corpus(test_seq,posterior_pred_test)\n",
    "print(\"Test Set Accuracy: Posterior Decode %.3f, Viterbi Decode: %.3f\"%(eval_posterior_test,eval_viterbi_test))\n"
   ]
  },
  {
   "cell_type": "code",
   "execution_count": 18,
   "metadata": {
    "collapsed": false
   },
   "outputs": [
    {
     "name": "stdout",
     "output_type": "stream",
     "text": [
      "Smoothing 10.000000 --  Train Set Accuracy: Posterior Decode 0.731, Viterbi Decode: 0.691\n",
      "Smoothing 10.000000 -- Test Set Accuracy: Posterior Decode 0.712, Viterbi Decode: 0.675\n",
      "Smoothing 1.000000 --  Train Set Accuracy: Posterior Decode 0.887, Viterbi Decode: 0.865\n",
      "Smoothing 1.000000 -- Test Set Accuracy: Posterior Decode 0.818, Viterbi Decode: 0.792\n",
      "Smoothing 0.100000 --  Train Set Accuracy: Posterior Decode 0.968, Viterbi Decode: 0.965\n",
      "Smoothing 0.100000 -- Test Set Accuracy: Posterior Decode 0.851, Viterbi Decode: 0.842\n",
      "Smoothing 0.000000 --  Train Set Accuracy: Posterior Decode 0.985, Viterbi Decode: 0.985\n",
      "Smoothing 0.000000 -- Test Set Accuracy: Posterior Decode 0.370, Viterbi Decode: 0.526\n",
      "Best Smoothing 0.100000 -- Test Set Accuracy: Posterior Decode 0.837, Viterbi Decode: 0.827\n"
     ]
    }
   ],
   "source": [
    "best_smoothing = hmm.pick_best_smoothing(train_seq, dev_seq, [10,1,0.1,0])\n",
    "hmm.train_supervised(train_seq, smoothing=best_smoothing)\n",
    "viterbi_pred_test = hmm.viterbi_decode_corpus(test_seq)\n",
    "posterior_pred_test = hmm.posterior_decode_corpus(test_seq)\n",
    "eval_viterbi_test = hmm.evaluate_corpus(test_seq, viterbi_pred_test)\n",
    "eval_posterior_test = hmm.evaluate_corpus(test_seq, posterior_pred_test)\n",
    "print(\"Best Smoothing %f -- Test Set Accuracy: Posterior Decode %.3f, Viterbi Decode: %.3f\"%(best_smoothing,eval_posterior_test,eval_viterbi_test))\n"
   ]
  },
  {
   "cell_type": "code",
   "execution_count": 19,
   "metadata": {
    "collapsed": false
   },
   "outputs": [
    {
     "data": {
      "image/png": "[encoded data removed]",
      "text/plain": [
       "<matplotlib.figure.Figure at 0x7f9271fde690>"
      ]
     },
     "metadata": {},
     "output_type": "display_data"
    }
   ],
   "source": [
    "import lxmls.sequences.confusion_matrix as cm\n",
    "import matplotlib.pyplot as plt\n",
    "confusion_matrix = cm.build_confusion_matrix(test_seq.seq_list, viterbi_pred_test, \n",
    "                                             len(corpus.tag_dict), hmm.get_num_states())\n",
    "cm.plot_confusion_bar_graph(confusion_matrix, corpus.tag_dict, xrange(hmm.get_num_states()), 'Confusion matrix')\n",
    "plt.show()\n"
   ]
  },
  {
   "cell_type": "code",
   "execution_count": 20,
   "metadata": {
    "collapsed": false
   },
   "outputs": [
    {
     "name": "stdout",
     "output_type": "stream",
     "text": [
      "Initial accuracy: 0.364465\n",
      "Iter: 1 Log Likelihood: -101673.202656\n",
      "Iter: 1 Accuracy: 0.382804\n",
      "Iter: 2 Log Likelihood: -78076.577606\n",
      "Iter: 2 Accuracy: 0.391923\n",
      "Iter: 3 Log Likelihood: -77863.506763\n",
      "Iter: 3 Accuracy: 0.401643\n",
      "Iter: 4 Log Likelihood: -77238.376507\n",
      "Iter: 4 Accuracy: 0.404049\n",
      "Iter: 5 Log Likelihood: -76101.256696\n",
      "Iter: 5 Accuracy: 0.404349\n",
      "Iter: 6 Log Likelihood: -74964.872746\n",
      "Iter: 6 Accuracy: 0.405051\n",
      "Iter: 7 Log Likelihood: -74016.964591\n",
      "Iter: 7 Accuracy: 0.400641\n",
      "Iter: 8 Log Likelihood: -73074.176382\n",
      "Iter: 8 Accuracy: 0.397735\n",
      "Iter: 9 Log Likelihood: -72020.947250\n",
      "Iter: 9 Accuracy: 0.390620\n",
      "Iter: 10 Log Likelihood: -70897.969471\n",
      "Iter: 10 Accuracy: 0.389017\n",
      "Iter: 11 Log Likelihood: -69765.293518\n",
      "Iter: 11 Accuracy: 0.386913\n",
      "Iter: 12 Log Likelihood: -68735.547704\n",
      "Iter: 12 Accuracy: 0.386211\n",
      "Iter: 13 Log Likelihood: -67995.461443\n",
      "Iter: 13 Accuracy: 0.385710\n",
      "Iter: 14 Log Likelihood: -67552.199285\n",
      "Iter: 14 Accuracy: 0.385710\n",
      "Iter: 15 Log Likelihood: -67306.545053\n",
      "Iter: 15 Accuracy: 0.385610\n",
      "Iter: 16 Log Likelihood: -67137.018015\n",
      "Iter: 16 Accuracy: 0.385510\n",
      "Iter: 17 Log Likelihood: -66969.649719\n",
      "Iter: 17 Accuracy: 0.385710\n",
      "Iter: 18 Log Likelihood: -66780.147490\n",
      "Iter: 18 Accuracy: 0.389117\n",
      "Iter: 19 Log Likelihood: -66573.087244\n",
      "Iter: 19 Accuracy: 0.401443\n"
     ]
    }
   ],
   "source": [
    "hmm.train_EM(train_seq, 0.1, 20, evaluate=True)\n",
    "viterbi_pred_test = hmm.viterbi_decode_corpus(test_seq)\n",
    "posterior_pred_test = hmm.posterior_decode_corpus(test_seq)\n",
    "eval_viterbi_test = hmm.evaluate_corpus(test_seq, viterbi_pred_test)\n",
    "eval_posterior_test = hmm.evaluate_corpus(test_seq, posterior_pred_test)\n"
   ]
  },
  {
   "cell_type": "markdown",
   "metadata": {},
   "source": [
    "#### Least squares update rule\n",
    "\n",
    "$\\theta_j := \\theta_j + \\alpha \\sum_{i=1}^{m}(y^{(i)}-h_{\\theta}(x^{(i)}))x_{j}^{(i)} $ "
   ]
  },
  {
   "cell_type": "code",
   "execution_count": null,
   "metadata": {
    "collapsed": true
   },
   "outputs": [],
   "source": []
  }
 ],
 "metadata": {
  "kernelspec": {
   "display_name": "Python 2",
   "language": "python",
   "name": "python2"
  },
  "language_info": {
   "codemirror_mode": {
    "name": "ipython",
    "version": 2
   },
   "file_extension": ".py",
   "mimetype": "text/x-python",
   "name": "python",
   "nbconvert_exporter": "python",
   "pygments_lexer": "ipython2",
   "version": "2.7.9"
  }
 },
 "nbformat": 4,
 "nbformat_minor": 0
}
